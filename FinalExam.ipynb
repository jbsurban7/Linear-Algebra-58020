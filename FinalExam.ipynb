{
  "nbformat": 4,
  "nbformat_minor": 0,
  "metadata": {
    "colab": {
      "name": "Final Exam",
      "provenance": [],
      "authorship_tag": "ABX9TyPYO96SoRbWiSfNC7BOaL/n",
      "include_colab_link": true
    },
    "kernelspec": {
      "name": "python3",
      "display_name": "Python 3"
    },
    "language_info": {
      "name": "python"
    }
  },
  "cells": [
    {
      "cell_type": "markdown",
      "metadata": {
        "id": "view-in-github",
        "colab_type": "text"
      },
      "source": [
        "<a href=\"https://colab.research.google.com/github/jbsurban7/Linear-Algebra-58020/blob/main/FinalExam.ipynb\" target=\"_parent\"><img src=\"https://colab.research.google.com/assets/colab-badge.svg\" alt=\"Open In Colab\"/></a>"
      ]
    },
    {
      "cell_type": "code",
      "execution_count": 1,
      "metadata": {
        "id": "rH8gqu3YQ_pK"
      },
      "outputs": [],
      "source": [
        "import numpy as np\n",
        "from numpy.linalg import eig"
      ]
    },
    {
      "cell_type": "markdown",
      "source": [
        "Problem 1"
      ],
      "metadata": {
        "id": "0qr-75L6RQkn"
      }
    },
    {
      "cell_type": "code",
      "source": [
        "C = 19\n",
        "\n",
        "A = (C - 6)\n",
        "B = (C * 3)\n",
        "C = C\n",
        "\n",
        "print(\"Student A has\",A)\n",
        "print(\"Student B has\",B)\n",
        "print(\"Student C has\",C)"
      ],
      "metadata": {
        "colab": {
          "base_uri": "https://localhost:8080/"
        },
        "id": "wbNdAkSfRdcf",
        "outputId": "29e54386-d788-4edf-de26-ae53c3680454"
      },
      "execution_count": 7,
      "outputs": [
        {
          "output_type": "stream",
          "name": "stdout",
          "text": [
            "Student A has 13\n",
            "Student B has 57\n",
            "Student C has 19\n"
          ]
        }
      ]
    },
    {
      "cell_type": "markdown",
      "source": [
        "**Problem 2**"
      ],
      "metadata": {
        "id": "miXvAB-jSfiG"
      }
    },
    {
      "cell_type": "code",
      "source": [
        "import numpy as np\n",
        "from scipy import linalg\n",
        "\n",
        "A = np.array([3,-1,1],[9,-3,3],[-12,4,-4])\n",
        "print(A)\n",
        "\n",
        "B = np.array([[5,15,-20]])\n",
        "print(\"\")\n",
        "\n",
        "B = B.T\n",
        "print(B)\n",
        "\n",
        "X = linalg.solve(A,B)\n",
        "print(X)"
      ],
      "metadata": {
        "colab": {
          "base_uri": "https://localhost:8080/",
          "height": 235
        },
        "id": "KjcsRYe6SosX",
        "outputId": "86adb354-de5d-4d6e-dc62-dcdb45bfbe90"
      },
      "execution_count": 6,
      "outputs": [
        {
          "output_type": "error",
          "ename": "TypeError",
          "evalue": "ignored",
          "traceback": [
            "\u001b[0;31m---------------------------------------------------------------------------\u001b[0m",
            "\u001b[0;31mTypeError\u001b[0m                                 Traceback (most recent call last)",
            "\u001b[0;32m<ipython-input-6-6cc3c97fd9bb>\u001b[0m in \u001b[0;36m<module>\u001b[0;34m()\u001b[0m\n\u001b[1;32m      2\u001b[0m \u001b[0;32mfrom\u001b[0m \u001b[0mscipy\u001b[0m \u001b[0;32mimport\u001b[0m \u001b[0mlinalg\u001b[0m\u001b[0;34m\u001b[0m\u001b[0;34m\u001b[0m\u001b[0m\n\u001b[1;32m      3\u001b[0m \u001b[0;34m\u001b[0m\u001b[0m\n\u001b[0;32m----> 4\u001b[0;31m \u001b[0mA\u001b[0m \u001b[0;34m=\u001b[0m \u001b[0mnp\u001b[0m\u001b[0;34m.\u001b[0m\u001b[0marray\u001b[0m\u001b[0;34m(\u001b[0m\u001b[0;34m[\u001b[0m\u001b[0;36m3\u001b[0m\u001b[0;34m,\u001b[0m\u001b[0;34m-\u001b[0m\u001b[0;36m1\u001b[0m\u001b[0;34m,\u001b[0m\u001b[0;36m1\u001b[0m\u001b[0;34m]\u001b[0m\u001b[0;34m,\u001b[0m\u001b[0;34m[\u001b[0m\u001b[0;36m9\u001b[0m\u001b[0;34m,\u001b[0m\u001b[0;34m-\u001b[0m\u001b[0;36m3\u001b[0m\u001b[0;34m,\u001b[0m\u001b[0;36m3\u001b[0m\u001b[0;34m]\u001b[0m\u001b[0;34m,\u001b[0m\u001b[0;34m[\u001b[0m\u001b[0;34m-\u001b[0m\u001b[0;36m12\u001b[0m\u001b[0;34m,\u001b[0m\u001b[0;36m4\u001b[0m\u001b[0;34m,\u001b[0m\u001b[0;34m-\u001b[0m\u001b[0;36m4\u001b[0m\u001b[0;34m]\u001b[0m\u001b[0;34m)\u001b[0m\u001b[0;34m\u001b[0m\u001b[0;34m\u001b[0m\u001b[0m\n\u001b[0m\u001b[1;32m      5\u001b[0m \u001b[0mprint\u001b[0m\u001b[0;34m(\u001b[0m\u001b[0mA\u001b[0m\u001b[0;34m)\u001b[0m\u001b[0;34m\u001b[0m\u001b[0;34m\u001b[0m\u001b[0m\n\u001b[1;32m      6\u001b[0m \u001b[0;34m\u001b[0m\u001b[0m\n",
            "\u001b[0;31mTypeError\u001b[0m: array() takes from 1 to 2 positional arguments but 3 were given"
          ]
        }
      ]
    },
    {
      "cell_type": "markdown",
      "source": [
        "Problem 3"
      ],
      "metadata": {
        "id": "3wkEApv5SpTO"
      }
    },
    {
      "cell_type": "code",
      "source": [
        "A= np.array ([[8,5,-6],[-12,-9,-12],[-3,-3,5]])\n",
        "print(A)\n",
        "print(\"\")\n",
        "\n",
        "b,c = np.linalg.eig(A)\n",
        "print (\"The eigenvalue/s is/are\",b)\n",
        "print (\"The eigenvectors are:\",c)\n",
        "print(\"\")\n",
        "x = c.round()\n",
        "print(x)"
      ],
      "metadata": {
        "colab": {
          "base_uri": "https://localhost:8080/"
        },
        "id": "FfDWOFwQSse_",
        "outputId": "c13078cc-330f-4efc-add0-979f3875bdef"
      },
      "execution_count": 5,
      "outputs": [
        {
          "output_type": "stream",
          "name": "stdout",
          "text": [
            "[[  8   5  -6]\n",
            " [-12  -9 -12]\n",
            " [ -3  -3   5]]\n",
            "\n",
            "The eigenvalue/s is/are [-8.11684397  3.          9.11684397]\n",
            "The eigenvectors are: [[ 2.35632155e-01 -7.07106781e-01 -8.61671223e-01]\n",
            " [-9.57707415e-01  7.07106781e-01  2.99299241e-01]\n",
            " [-1.65148399e-01 -1.19155502e-16  4.09808086e-01]]\n",
            "\n",
            "[[ 0. -1. -1.]\n",
            " [-1.  1.  0.]\n",
            " [-0. -0.  0.]]\n"
          ]
        }
      ]
    },
    {
      "cell_type": "code",
      "source": [
        ""
      ],
      "metadata": {
        "id": "M3YRQVsNT1wu"
      },
      "execution_count": null,
      "outputs": []
    }
  ]
}