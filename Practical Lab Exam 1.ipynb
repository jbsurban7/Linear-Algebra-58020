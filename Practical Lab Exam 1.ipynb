{
 "cells": [
  {
   "cell_type": "markdown",
   "id": "5588c8fb",
   "metadata": {},
   "source": [
    "# Problem 1"
   ]
  },
  {
   "cell_type": "code",
   "execution_count": 5,
   "id": "592723a4",
   "metadata": {},
   "outputs": [],
   "source": [
    "import numpy as np"
   ]
  },
  {
   "cell_type": "code",
   "execution_count": 12,
   "id": "3316b1f0",
   "metadata": {},
   "outputs": [],
   "source": [
    "w = np.array([[1, -3,0],[2,-2,0],[3,1,0]])\n",
    "x = np.array([[3,2,1],[-1,2,3],[2,1,-1]])\n",
    "y = np.array([[1,2,0],[0,-1,2],[0,0,0]])\n",
    "z = np.array([[0,1],[2,3]])"
   ]
  },
  {
   "cell_type": "code",
   "execution_count": 14,
   "id": "985cf6f7",
   "metadata": {},
   "outputs": [
    {
     "name": "stdout",
     "output_type": "stream",
     "text": [
      "[[ 1  5 -6]\n",
      " [ 2  6 -4]\n",
      " [ 3  5  2]]\n"
     ]
    }
   ],
   "source": [
    "#A\n",
    "output=np.dot(w,y)\n",
    "print(output)"
   ]
  },
  {
   "cell_type": "code",
   "execution_count": 16,
   "id": "b464b93b",
   "metadata": {},
   "outputs": [
    {
     "name": "stdout",
     "output_type": "stream",
     "text": [
      "[[0 2]\n",
      " [4 6]]\n"
     ]
    }
   ],
   "source": [
    "#B\n",
    "output=np.add(z,z)\n",
    "print(output)"
   ]
  },
  {
   "cell_type": "code",
   "execution_count": 18,
   "id": "09936b91",
   "metadata": {},
   "outputs": [
    {
     "name": "stdout",
     "output_type": "stream",
     "text": [
      "[[ 9  6  3]\n",
      " [-3  6  9]\n",
      " [ 6  3 -3]]\n"
     ]
    }
   ],
   "source": [
    "#C\n",
    "output=np.dot(3,x)\n",
    "print(output)"
   ]
  },
  {
   "cell_type": "markdown",
   "id": "7b2b029c",
   "metadata": {},
   "source": [
    "# Problem 2"
   ]
  },
  {
   "cell_type": "code",
   "execution_count": 24,
   "id": "8db34933",
   "metadata": {},
   "outputs": [
    {
     "name": "stdout",
     "output_type": "stream",
     "text": [
      "[[  0   0 -10]\n",
      " [  8   8   4]\n",
      " [  0   0   0]]\n"
     ]
    }
   ],
   "source": [
    "#A The product (YW)2 is not defined\n",
    "ans1=np.cross(y,w)\n",
    "\n",
    "ans2= 2*ans1\n",
    "print(ans2)\n",
    "\n",
    "#A is false"
   ]
  },
  {
   "cell_type": "code",
   "execution_count": 28,
   "id": "e6cf562f",
   "metadata": {},
   "outputs": [
    {
     "name": "stdout",
     "output_type": "stream",
     "text": [
      "[[-2  3 -7]\n",
      " [ 3  4 -7]\n",
      " [ 1  4  3]]\n"
     ]
    }
   ],
   "source": [
    "#B WY – X = \n",
    "b1=np.dot(w,y)\n",
    "b2=np.subtract(b1,x)\n",
    "\n",
    "print(b2)\n",
    "\n",
    "#B is false"
   ]
  },
  {
   "cell_type": "code",
   "execution_count": 37,
   "id": "ce85cb47",
   "metadata": {},
   "outputs": [
    {
     "name": "stdout",
     "output_type": "stream",
     "text": [
      "[[ 5 -9]\n",
      " [ 0 -2]]\n"
     ]
    }
   ],
   "source": [
    "#C\n",
    "\n",
    "c1=np.dot(y,w)\n",
    "c2=2*z\n",
    "\n",
    "c1=([[5,-7],[4,4]])\n",
    "\n",
    "c3=np.subtract(c1,c2)\n",
    "\n",
    "print(c3)\n",
    "\n",
    "#C is true"
   ]
  }
 ],
 "metadata": {
  "kernelspec": {
   "display_name": "Python 3",
   "language": "python",
   "name": "python3"
  },
  "language_info": {
   "codemirror_mode": {
    "name": "ipython",
    "version": 3
   },
   "file_extension": ".py",
   "mimetype": "text/x-python",
   "name": "python",
   "nbconvert_exporter": "python",
   "pygments_lexer": "ipython3",
   "version": "3.6.13"
  }
 },
 "nbformat": 4,
 "nbformat_minor": 5
}
