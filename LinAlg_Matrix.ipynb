{
  "nbformat": 4,
  "nbformat_minor": 0,
  "metadata": {
    "colab": {
      "name": "LinAlg_Matrix",
      "provenance": [],
      "authorship_tag": "ABX9TyPMK2vo9TA5EtLo9E5h9Gz5",
      "include_colab_link": true
    },
    "kernelspec": {
      "name": "python3",
      "display_name": "Python 3"
    },
    "language_info": {
      "name": "python"
    }
  },
  "cells": [
    {
      "cell_type": "markdown",
      "metadata": {
        "id": "view-in-github",
        "colab_type": "text"
      },
      "source": [
        "<a href=\"https://colab.research.google.com/github/jbsurban7/Linear-Algebra-58020/blob/main/LinAlg_Matrix.ipynb\" target=\"_parent\"><img src=\"https://colab.research.google.com/assets/colab-badge.svg\" alt=\"Open In Colab\"/></a>"
      ]
    },
    {
      "cell_type": "code",
      "metadata": {
        "id": "bm22MIJqkXIj"
      },
      "source": [
        "\n",
        "import numpy as np"
      ],
      "execution_count": 1,
      "outputs": []
    },
    {
      "cell_type": "markdown",
      "metadata": {
        "id": "Y_-EbGyyk00N"
      },
      "source": [
        "**Matrix Algebra**"
      ]
    },
    {
      "cell_type": "code",
      "metadata": {
        "colab": {
          "base_uri": "https://localhost:8080/"
        },
        "id": "8esQaZR4k6FN",
        "outputId": "f2e4ea8d-6fce-48dd-ed7b-55fa681990c1"
      },
      "source": [
        "A = np.array([[1,2],[4,7]])\n",
        "invA=(np.linalg.inv(A))\n",
        "print(invA)"
      ],
      "execution_count": 4,
      "outputs": [
        {
          "output_type": "stream",
          "name": "stdout",
          "text": [
            "[[-7.  2.]\n",
            " [ 4. -1.]]\n"
          ]
        }
      ]
    },
    {
      "cell_type": "code",
      "metadata": {
        "colab": {
          "base_uri": "https://localhost:8080/"
        },
        "id": "SON0blwPlG_t",
        "outputId": "dfaf360d-8c86-4737-80ce-426a9f3f0aa1"
      },
      "source": [
        "C = np.dot(A,invA)\n",
        "print(C)"
      ],
      "execution_count": 6,
      "outputs": [
        {
          "output_type": "stream",
          "name": "stdout",
          "text": [
            "[[1. 0.]\n",
            " [0. 1.]]\n"
          ]
        }
      ]
    },
    {
      "cell_type": "markdown",
      "metadata": {
        "id": "7N6Txz_9lZRZ"
      },
      "source": [
        "**Inverse 3x3 Matrix**"
      ]
    },
    {
      "cell_type": "code",
      "metadata": {
        "colab": {
          "base_uri": "https://localhost:8080/"
        },
        "id": "diCh6X-Hlf4j",
        "outputId": "1e6b111b-67ec-4f78-ccee-49cd042925da"
      },
      "source": [
        "B = np.array([[8,9,5],[3,4,2],[4,5,3]])\n",
        "invB = np.linalg.inv(B)\n",
        "print(invB)"
      ],
      "execution_count": 24,
      "outputs": [
        {
          "output_type": "stream",
          "name": "stdout",
          "text": [
            "[[ 1.  -1.  -1. ]\n",
            " [-0.5  2.  -0.5]\n",
            " [-0.5 -2.   2.5]]\n"
          ]
        }
      ]
    },
    {
      "cell_type": "code",
      "metadata": {
        "colab": {
          "base_uri": "https://localhost:8080/"
        },
        "id": "6Qee65hxljYs",
        "outputId": "784347b9-46c5-4281-e6f1-9d5a5d96ff94"
      },
      "source": [
        "C= np.dot(B,invB) #Checking for the theorem\n",
        "print(C)"
      ],
      "execution_count": 26,
      "outputs": [
        {
          "output_type": "stream",
          "name": "stdout",
          "text": [
            "[[ 1.0000000e+00 -4.4408921e-16  4.4408921e-16]\n",
            " [ 0.0000000e+00  1.0000000e+00  8.8817842e-16]\n",
            " [ 0.0000000e+00 -4.4408921e-16  1.0000000e+00]]\n"
          ]
        }
      ]
    },
    {
      "cell_type": "markdown",
      "metadata": {
        "id": "5TKurs38mNBT"
      },
      "source": [
        "**Transpose 3x3 Matrix**"
      ]
    },
    {
      "cell_type": "code",
      "metadata": {
        "colab": {
          "base_uri": "https://localhost:8080/"
        },
        "id": "n9gGkChqmQt0",
        "outputId": "3d88f99d-bb35-4ff9-c9ed-092ac28f194d"
      },
      "source": [
        "D = np.transpose(B)\n",
        "print(D)"
      ],
      "execution_count": 30,
      "outputs": [
        {
          "output_type": "stream",
          "name": "stdout",
          "text": [
            "[[8 3 4]\n",
            " [9 4 5]\n",
            " [5 2 3]]\n"
          ]
        }
      ]
    },
    {
      "cell_type": "markdown",
      "metadata": {
        "id": "EL5Hti-qmc3A"
      },
      "source": [
        "**Inverse 4x4 Matrix**"
      ]
    },
    {
      "cell_type": "code",
      "metadata": {
        "colab": {
          "base_uri": "https://localhost:8080/"
        },
        "id": "A5X3piqSmi3E",
        "outputId": "76201c76-304a-465b-a795-10984b6675eb"
      },
      "source": [
        "E= np.array([[3,4,6,5],[9,8,3,2],[2,5,4,3],[5,8,4,6]])\n",
        "print(E)"
      ],
      "execution_count": 38,
      "outputs": [
        {
          "output_type": "stream",
          "name": "stdout",
          "text": [
            "[[3 4 6 5]\n",
            " [9 8 3 2]\n",
            " [2 5 4 3]\n",
            " [5 8 4 6]]\n"
          ]
        }
      ]
    },
    {
      "cell_type": "code",
      "metadata": {
        "colab": {
          "base_uri": "https://localhost:8080/"
        },
        "id": "FVKvUki3mlM8",
        "outputId": "30234b71-9a91-498e-8387-f74b90020ea5"
      },
      "source": [
        "F= np.linalg.inv(E)\n",
        "print(F)"
      ],
      "execution_count": 40,
      "outputs": [
        {
          "output_type": "stream",
          "name": "stdout",
          "text": [
            "[[ 0.15652174  0.13913043 -0.32463768 -0.01449275]\n",
            " [-0.26956522 -0.0173913   0.37391304  0.04347826]\n",
            " [ 0.17391304  0.04347826  0.23188406 -0.27536232]\n",
            " [ 0.11304348 -0.12173913 -0.3826087   0.30434783]]\n"
          ]
        }
      ]
    },
    {
      "cell_type": "code",
      "metadata": {
        "colab": {
          "base_uri": "https://localhost:8080/"
        },
        "id": "U1aR86OGmtmk",
        "outputId": "7c374232-e8e3-4dbc-e63b-7776c1c32fbe"
      },
      "source": [
        "G= np.transpose(E)\n",
        "print(E)"
      ],
      "execution_count": 42,
      "outputs": [
        {
          "output_type": "stream",
          "name": "stdout",
          "text": [
            "[[3 4 6 5]\n",
            " [9 8 3 2]\n",
            " [2 5 4 3]\n",
            " [5 8 4 6]]\n"
          ]
        }
      ]
    }
  ]
}