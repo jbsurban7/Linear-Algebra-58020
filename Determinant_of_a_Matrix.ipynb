{
  "nbformat": 4,
  "nbformat_minor": 0,
  "metadata": {
    "colab": {
      "name": "Determinant_of_a_Matrix",
      "provenance": [],
      "authorship_tag": "ABX9TyMeWLL9wwoK7KRosteJfwIh",
      "include_colab_link": true
    },
    "kernelspec": {
      "name": "python3",
      "display_name": "Python 3"
    },
    "language_info": {
      "name": "python"
    }
  },
  "cells": [
    {
      "cell_type": "markdown",
      "metadata": {
        "id": "view-in-github",
        "colab_type": "text"
      },
      "source": [
        "<a href=\"https://colab.research.google.com/github/jbsurban7/Linear-Algebra-58020/blob/main/Determinant_of_a_Matrix.ipynb\" target=\"_parent\"><img src=\"https://colab.research.google.com/assets/colab-badge.svg\" alt=\"Open In Colab\"/></a>"
      ]
    },
    {
      "cell_type": "code",
      "metadata": {
        "id": "9P5tKp1OTvtG"
      },
      "source": [
        "import numpy as np"
      ],
      "execution_count": 1,
      "outputs": []
    },
    {
      "cell_type": "code",
      "metadata": {
        "colab": {
          "base_uri": "https://localhost:8080/"
        },
        "id": "u86JGXrZnGb6",
        "outputId": "be595ac5-cbe5-405e-abd3-0850d704abfa"
      },
      "source": [
        "A = np.array([[1,2,-1],[4,6,-2],[-1,3,3]]) #Initialization of the array\n",
        "B = np.linalg.det(A) #Command to find the determinant of the given array\n",
        "print(A)\n",
        "print(B)\n",
        "print(round(B)) #Rounded form of the original answer"
      ],
      "execution_count": 5,
      "outputs": [
        {
          "output_type": "stream",
          "name": "stdout",
          "text": [
            "[[ 1  2 -1]\n",
            " [ 4  6 -2]\n",
            " [-1  3  3]]\n",
            "-13.999999999999996\n",
            "-14\n"
          ]
        }
      ]
    }
  ]
}